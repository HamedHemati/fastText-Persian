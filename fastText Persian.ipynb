{
 "cells": [
  {
   "cell_type": "markdown",
   "metadata": {},
   "source": [
    "Dependencies:\n",
    "\n",
    "**fastText** - for computing word embeddings:\n",
    "https://github.com/facebookresearch/fastText/tree/master/python\n",
    "\n",
    "**plotly** - for visualizing outputs (interactive visualization): \n",
    "https://plot.ly/python/getting-started/\n",
    "\n",
    "**scikit-learn** - for dimensionality reduction:\n",
    "http://scikit-learn.org/stable/install.html"
   ]
  },
  {
   "cell_type": "code",
   "execution_count": 25,
   "metadata": {},
   "outputs": [],
   "source": [
    "import fastText\n",
    "import plotly.offline as py\n",
    "import plotly.graph_objs as go\n",
    "from sklearn.manifold import TSNE\n",
    "import random"
   ]
  },
  {
   "cell_type": "markdown",
   "metadata": {},
   "source": [
    "You first need to donwload the pre-pretained model for Persian language from the link below: <br>\n",
    "https://github.com/facebookresearch/fastText/blob/master/pretrained-vectors.md <br>\n",
    "*download the \"bin+text\" file"
   ]
  },
  {
   "cell_type": "code",
   "execution_count": null,
   "metadata": {},
   "outputs": [],
   "source": [
    "# load the model\n",
    "fastText_model_path = 'PATH TO wiki.fa.bin'\n",
    "model = fastText.load_model(fastText_model_path)"
   ]
  },
  {
   "cell_type": "markdown",
   "metadata": {},
   "source": [
    "A list of words is provided for this test. You can easily replace them with your own words of choice.<br>\n",
    "https://github.com/neuperc/fastText-Persian/blob/master/persian_words.txt"
   ]
  },
  {
   "cell_type": "code",
   "execution_count": null,
   "metadata": {},
   "outputs": [],
   "source": [
    "# read the words stored in persian_words.txt\n",
    "words_path = 'PATH TO persian_words.txt'\n",
    "with open(words_path, 'r') as f:\n",
    "    words = f.readlines()\n",
    "words = [w.strip() for w in words]\n",
    "random.shuffle(words) # just for the sake of randomness in the order of words;) (does not affect the results) "
   ]
  },
  {
   "cell_type": "code",
   "execution_count": null,
   "metadata": {},
   "outputs": [],
   "source": [
    "# get the text embeddings for the words in the list of words\n",
    "vecs = []\n",
    "for w in words:\n",
    "    vecs.append(model.get_word_vector(w))\n",
    "# apply dimensionality reduction to the vector representations using tSNE method\n",
    "tsne = TSNE(n_components=2, verbose=1, perplexity=30, n_iter=20000)\n",
    "results = tsne.fit_transform(vecs)\n",
    "# plot the results with plotly package\n",
    "plots = []\n",
    "for i in range(len(words)):\n",
    "    pl = go.Scatter(x=[results[i, 0]], y=[results[i, 1]], mode='markers+text',text=[words[i]],\n",
    "                    textposition='bottom center',marker=dict(size=10, color=i, colorscale='Jet', opacity=0.8), \n",
    "                    textfont=dict(size=14,),name=words[i])\n",
    "    plots.append(pl)\n",
    "    \n",
    "py.plot(plots, filename='tsne_persianwords.html', auto_open=True)"
   ]
  }
 ],
 "metadata": {
  "kernelspec": {
   "display_name": "Python 3",
   "language": "python",
   "name": "python3"
  },
  "language_info": {
   "codemirror_mode": {
    "name": "ipython",
    "version": 3
   },
   "file_extension": ".py",
   "mimetype": "text/x-python",
   "name": "python",
   "nbconvert_exporter": "python",
   "pygments_lexer": "ipython3",
   "version": "3.6.5"
  }
 },
 "nbformat": 4,
 "nbformat_minor": 2
}
